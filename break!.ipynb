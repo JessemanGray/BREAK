{
  "cells": [
    {
      "cell_type": "markdown",
      "metadata": {
        "id": "view-in-github",
        "colab_type": "text"
      },
      "source": [
        "<a href=\"https://colab.research.google.com/github/JessemanGray/BREAK/blob/main/break!.ipynb\" target=\"_parent\"><img src=\"https://colab.research.google.com/assets/colab-badge.svg\" alt=\"Open In Colab\"/></a>"
      ]
    },
    {
      "cell_type": "code",
      "execution_count": null,
      "metadata": {
        "id": "NQ-bQXUACUDZ"
      },
      "outputs": [],
      "source": [
        "import os\n",
        "import cv2\n",
        "import numpy as np\n",
        "import random"
      ]
    },
    {
      "cell_type": "code",
      "execution_count": null,
      "metadata": {
        "colab": {
          "base_uri": "https://localhost:8080/"
        },
        "id": "e7I5PeKhlaQN",
        "outputId": "ec858a08-0024-4f8a-be6d-08dbf9166fb2"
      },
      "outputs": [
        {
          "output_type": "stream",
          "name": "stdout",
          "text": [
            "Mounted at /content/gdrive\n"
          ]
        }
      ],
      "source": [
        "from google.colab import drive\n",
        "drive.mount('/content/gdrive')"
      ]
    },
    {
      "cell_type": "code",
      "execution_count": null,
      "metadata": {
        "id": "lbJXTdPAC8jS"
      },
      "outputs": [],
      "source": [
        "video_path = '/content/gdrive/MyDrive/break_6.mov'"
      ]
    },
    {
      "cell_type": "code",
      "execution_count": null,
      "metadata": {
        "id": "Rtqyy3jxb3BG"
      },
      "outputs": [],
      "source": [
        "assert os.path.exists(video_path), 'Video file does not exist'"
      ]
    },
    {
      "cell_type": "code",
      "execution_count": null,
      "metadata": {
        "id": "jd4jTEk_BOAw"
      },
      "outputs": [],
      "source": [
        "# Create a new directory for the selected frames\n",
        "os.makedirs('/content/selected_frames', exist_ok=True)"
      ]
    },
    {
      "cell_type": "code",
      "execution_count": null,
      "metadata": {
        "colab": {
          "base_uri": "https://localhost:8080/"
        },
        "id": "yxF5l4oiAvZv",
        "outputId": "77c28a76-00dc-4d23-dc13-535a884c617e"
      },
      "outputs": [
        {
          "output_type": "stream",
          "name": "stdout",
          "text": [
            "Total frames: 95\n"
          ]
        }
      ],
      "source": [
        "import cv2\n",
        "from IPython.display import display, Image\n",
        "import numpy as np\n",
        "\n",
        "# Open video file\n",
        "cap = cv2.VideoCapture(video_path)\n",
        "\n",
        "# Get the total number of frames\n",
        "total_frames = int(cap.get(cv2.CAP_PROP_FRAME_COUNT))\n",
        "\n",
        "print(f'Total frames: {total_frames}')\n",
        "\n",
        "frames = []\n",
        "i = 0  # Counter for naming the image files\n",
        "while(cap.isOpened()):\n",
        "    # Read frame from video\n",
        "    ret, frame = cap.read()\n",
        "    if ret == False:\n",
        "        break\n",
        "\n",
        "    # Convert BGR to RGB\n",
        "    frame_rgb = cv2.cvtColor(frame, cv2.COLOR_BGR2RGB)\n",
        "\n",
        "    # Save the image file in the Colab environment\n",
        "    cv2.imwrite(f'frame_{i}.png', cv2.cvtColor(frame_rgb, cv2.COLOR_RGB2BGR))\n",
        "    i += 1\n",
        "\n",
        "    # Append frames to a list\n",
        "    frames.append(frame_rgb)\n",
        "\n",
        "cap.release()\n",
        "cv2.destroyAllWindows()"
      ]
    },
    {
      "cell_type": "code",
      "source": [
        "from google.colab import files"
      ],
      "metadata": {
        "id": "UI8pUlQpzQ8-"
      },
      "execution_count": null,
      "outputs": []
    },
    {
      "cell_type": "code",
      "execution_count": null,
      "metadata": {
        "id": "FiWApCodBFCZ",
        "colab": {
          "base_uri": "https://localhost:8080/",
          "height": 35
        },
        "outputId": "00c6a17a-e24d-4ffc-9fe6-d3ac297f6d89"
      },
      "outputs": [
        {
          "output_type": "execute_result",
          "data": {
            "text/plain": [
              "\"from google.colab import files\\n\\n# Assuming you have saved 100 frames\\nfor i in range(31):\\n    files.download(f'frame_{i}.png')\""
            ],
            "application/vnd.google.colaboratory.intrinsic+json": {
              "type": "string"
            }
          },
          "metadata": {},
          "execution_count": 32
        }
      ],
      "source": [
        "'''from google.colab import files\n",
        "\n",
        "# Assuming you have saved 100 frames\n",
        "for i in range(31):\n",
        "    files.download(f'frame_{i}.png')'''"
      ]
    },
    {
      "cell_type": "code",
      "execution_count": null,
      "metadata": {
        "id": "J3PL6V7GBKFe",
        "colab": {
          "base_uri": "https://localhost:8080/",
          "height": 1000
        },
        "outputId": "2286825a-869c-411b-d9d1-a70937fe0107"
      },
      "outputs": [
        {
          "output_type": "stream",
          "name": "stdout",
          "text": [
            "updating: content/frame_0.png (deflated 13%)\n",
            "updating: content/frame_10.png (deflated 11%)\n",
            "updating: content/frame_11.png (deflated 13%)\n",
            "updating: content/frame_12.png (deflated 12%)\n",
            "updating: content/frame_13.png (deflated 12%)\n",
            "updating: content/frame_14.png (deflated 11%)\n",
            "updating: content/frame_15.png (deflated 12%)\n",
            "updating: content/frame_16.png (deflated 11%)\n",
            "updating: content/frame_17.png (deflated 12%)\n",
            "updating: content/frame_18.png (deflated 11%)\n",
            "updating: content/frame_19.png (deflated 11%)\n",
            "updating: content/frame_1.png (deflated 13%)\n",
            "updating: content/frame_20.png (deflated 11%)\n",
            "updating: content/frame_21.png (deflated 11%)\n",
            "updating: content/frame_22.png (deflated 10%)\n",
            "updating: content/frame_23.png (deflated 10%)\n",
            "updating: content/frame_24.png (deflated 10%)\n",
            "updating: content/frame_25.png (deflated 10%)\n",
            "updating: content/frame_26.png (deflated 10%)\n",
            "updating: content/frame_27.png (deflated 10%)\n",
            "updating: content/frame_28.png (deflated 9%)\n",
            "updating: content/frame_29.png (deflated 10%)\n",
            "updating: content/frame_2.png (deflated 13%)\n",
            "updating: content/frame_30.png (deflated 9%)\n",
            "updating: content/frame_3.png (deflated 12%)\n",
            "updating: content/frame_4.png (deflated 12%)\n",
            "updating: content/frame_5.png (deflated 12%)\n",
            "updating: content/frame_6.png (deflated 12%)\n",
            "updating: content/frame_7.png (deflated 12%)\n",
            "updating: content/frame_8.png (deflated 11%)\n",
            "updating: content/frame_9.png (deflated 12%)\n",
            "updating: content/frame_31.png (deflated 9%)\n",
            "updating: content/frame_32.png (deflated 9%)\n",
            "updating: content/frame_33.png (deflated 10%)\n",
            "updating: content/frame_34.png (deflated 10%)\n",
            "updating: content/frame_35.png (deflated 10%)\n",
            "updating: content/frame_36.png (deflated 10%)\n",
            "updating: content/frame_37.png (deflated 9%)\n",
            "updating: content/frame_38.png (deflated 11%)\n",
            "updating: content/frame_39.png (deflated 10%)\n",
            "updating: content/frame_40.png (deflated 10%)\n",
            "updating: content/frame_41.png (deflated 10%)\n",
            "updating: content/frame_42.png (deflated 11%)\n",
            "updating: content/frame_43.png (deflated 10%)\n",
            "updating: content/frame_44.png (deflated 11%)\n",
            "updating: content/frame_45.png (deflated 11%)\n",
            "updating: content/frame_46.png (deflated 11%)\n",
            "updating: content/frame_47.png (deflated 12%)\n",
            "updating: content/frame_48.png (deflated 11%)\n",
            "updating: content/frame_49.png (deflated 11%)\n",
            "updating: content/frame_50.png (deflated 10%)\n",
            "updating: content/frame_51.png (deflated 11%)\n",
            "updating: content/frame_52.png (deflated 10%)\n",
            "updating: content/frame_53.png (deflated 11%)\n",
            "updating: content/frame_54.png (deflated 10%)\n",
            "updating: content/frame_55.png (deflated 11%)\n",
            "updating: content/frame_56.png (deflated 10%)\n",
            "updating: content/frame_57.png (deflated 12%)\n",
            "updating: content/frame_58.png (deflated 11%)\n",
            "updating: content/frame_59.png (deflated 12%)\n",
            "updating: content/frame_60.png (deflated 11%)\n",
            "updating: content/frame_61.png (deflated 11%)\n",
            "updating: content/frame_62.png (deflated 11%)\n",
            "updating: content/frame_63.png (deflated 10%)\n",
            "updating: content/frame_64.png (deflated 11%)\n",
            "updating: content/frame_65.png (deflated 11%)\n",
            "updating: content/frame_66.png (deflated 11%)\n",
            "updating: content/frame_67.png (deflated 10%)\n",
            "updating: content/frame_68.png (deflated 11%)\n",
            "updating: content/frame_69.png (deflated 11%)\n",
            "updating: content/frame_70.png (deflated 11%)\n",
            "  adding: content/frame_71.png (deflated 11%)\n",
            "  adding: content/frame_72.png (deflated 11%)\n",
            "  adding: content/frame_73.png (deflated 11%)\n",
            "  adding: content/frame_74.png (deflated 11%)\n",
            "  adding: content/frame_75.png (deflated 11%)\n",
            "  adding: content/frame_76.png (deflated 11%)\n",
            "  adding: content/frame_77.png (deflated 11%)\n",
            "  adding: content/frame_78.png (deflated 11%)\n",
            "  adding: content/frame_79.png (deflated 11%)\n",
            "  adding: content/frame_80.png (deflated 11%)\n",
            "  adding: content/frame_81.png (deflated 11%)\n",
            "  adding: content/frame_82.png (deflated 11%)\n",
            "  adding: content/frame_83.png (deflated 11%)\n",
            "  adding: content/frame_84.png (deflated 11%)\n",
            "  adding: content/frame_85.png (deflated 11%)\n",
            "  adding: content/frame_86.png (deflated 11%)\n",
            "  adding: content/frame_87.png (deflated 11%)\n",
            "  adding: content/frame_88.png (deflated 11%)\n",
            "  adding: content/frame_89.png (deflated 11%)\n",
            "  adding: content/frame_90.png (deflated 11%)\n",
            "  adding: content/frame_91.png (deflated 10%)\n",
            "  adding: content/frame_92.png (deflated 11%)\n",
            "  adding: content/frame_93.png (deflated 11%)\n",
            "  adding: content/frame_94.png (deflated 11%)\n"
          ]
        },
        {
          "output_type": "display_data",
          "data": {
            "text/plain": [
              "<IPython.core.display.Javascript object>"
            ],
            "application/javascript": [
              "\n",
              "    async function download(id, filename, size) {\n",
              "      if (!google.colab.kernel.accessAllowed) {\n",
              "        return;\n",
              "      }\n",
              "      const div = document.createElement('div');\n",
              "      const label = document.createElement('label');\n",
              "      label.textContent = `Downloading \"${filename}\": `;\n",
              "      div.appendChild(label);\n",
              "      const progress = document.createElement('progress');\n",
              "      progress.max = size;\n",
              "      div.appendChild(progress);\n",
              "      document.body.appendChild(div);\n",
              "\n",
              "      const buffers = [];\n",
              "      let downloaded = 0;\n",
              "\n",
              "      const channel = await google.colab.kernel.comms.open(id);\n",
              "      // Send a message to notify the kernel that we're ready.\n",
              "      channel.send({})\n",
              "\n",
              "      for await (const message of channel.messages) {\n",
              "        // Send a message to notify the kernel that we're ready.\n",
              "        channel.send({})\n",
              "        if (message.buffers) {\n",
              "          for (const buffer of message.buffers) {\n",
              "            buffers.push(buffer);\n",
              "            downloaded += buffer.byteLength;\n",
              "            progress.value = downloaded;\n",
              "          }\n",
              "        }\n",
              "      }\n",
              "      const blob = new Blob(buffers, {type: 'application/binary'});\n",
              "      const a = document.createElement('a');\n",
              "      a.href = window.URL.createObjectURL(blob);\n",
              "      a.download = filename;\n",
              "      div.appendChild(a);\n",
              "      a.click();\n",
              "      div.remove();\n",
              "    }\n",
              "  "
            ]
          },
          "metadata": {}
        },
        {
          "output_type": "display_data",
          "data": {
            "text/plain": [
              "<IPython.core.display.Javascript object>"
            ],
            "application/javascript": [
              "download(\"download_d3b89ee7-d247-46ed-8cb5-fb6f86d480aa\", \"frames.zip\", 91401766)"
            ]
          },
          "metadata": {}
        }
      ],
      "source": [
        "!zip -r /content/frames.zip /content/*.png\n",
        "files.download(\"/content/frames.zip\")"
      ]
    },
    {
      "cell_type": "code",
      "execution_count": null,
      "metadata": {
        "colab": {
          "base_uri": "https://localhost:8080/"
        },
        "id": "cqi471zP9PCT",
        "outputId": "07caa054-3718-49c9-803a-a14bc828633c"
      },
      "outputs": [
        {
          "output_type": "stream",
          "name": "stdout",
          "text": [
            "0\n"
          ]
        }
      ],
      "source": [
        "!ls /content/selected_frames/ | wc -l"
      ]
    },
    {
      "cell_type": "code",
      "execution_count": null,
      "metadata": {
        "colab": {
          "base_uri": "https://localhost:8080/",
          "height": 140
        },
        "id": "C9Hbv2mMz0eV",
        "outputId": "911d0e1a-3006-45b2-d0da-8911aaffc28b"
      },
      "outputs": [
        {
          "ename": "SyntaxError",
          "evalue": "unmatched ')' (<ipython-input-27-03730f6f4371>, line 6)",
          "output_type": "error",
          "traceback": [
            "\u001b[0;36m  File \u001b[0;32m\"<ipython-input-27-03730f6f4371>\"\u001b[0;36m, line \u001b[0;32m6\u001b[0m\n\u001b[0;31m    in_file = open('frame_1/to/annotations/%s.xml') % image_id)\u001b[0m\n\u001b[0m                                                              ^\u001b[0m\n\u001b[0;31mSyntaxError\u001b[0m\u001b[0;31m:\u001b[0m unmatched ')'\n"
          ]
        }
      ],
      "source": [
        "\n",
        "# Prepare for YOLO\n",
        "import os\n",
        "import glob\n",
        "import xml.etree.ElementTree as ET\n",
        "\n",
        "def convert_annotation(image_id, class_map):\n",
        "    in_file = open('frame_1/to/annotations/%s.xml' % image_id)\n",
        "    out_file = open('frame_1/to/annotations/%s.txt' % image_id, 'w')\n",
        "    tree = ET.parse(in_file)\n",
        "    root = tree.getroot()\n",
        "    size = root.find('size')\n",
        "    w = int(size.find('width').text)\n",
        "    h = int(size.find('height').text)\n",
        "            for obj in root.iter('object'):\n",
        "              difficult = obj.find('name').text\n",
        "              cls = obj.find('name').text\n",
        "              if cls not in class_map or int(difficult) == 1:\n",
        "                continue\n",
        "              cls_id = class_map(cls)\n",
        "              xmalbox = obj.find('bndbox')\n",
        "              b = (int(xmalbox.find('xmin').text), int(xmalbox.find('ymin').text), int(xmlbox.find('xmax').text), int(xmlbox.find('ymax').text))\n",
        "              bb = (b[0]/w, b[1]/h, b[2]/w, b[3]/h)\n",
        "              out_file.write(str(cls_id) + \" \" + \" \".join([str(a) for a in bb]) + '\\n')\n",
        "\n",
        "    # Define your class map here. This names class names to indices.\n",
        "    class_map = {\"class1\": 0, \"class2\": 1}, \"class3\": 2 # replace with class names\n",
        "\n",
        "    xml files = glob.glob(os.path.join('path/to/annotations', '*.xml'))\n",
        "    for xml_file in xml_files:\n",
        "      image_id = os.path.basemanme(xml_file)[:-4] # strip the xml extension\n",
        "      convert_annotation(image_id, class_map)"
      ]
    },
    {
      "cell_type": "code",
      "execution_count": null,
      "metadata": {
        "id": "bJX59X_i6eMQ"
      },
      "outputs": [],
      "source": []
    },
    {
      "cell_type": "code",
      "execution_count": null,
      "metadata": {
        "id": "CtXeXzHazzR7"
      },
      "outputs": [],
      "source": [
        "import os\n",
        "import glob\n",
        "import xml.etree.ElementTree as ET\n",
        "\n",
        "def convert_annotation(image_id, class_map):\n",
        "    in_file = open('path/to/annotations/%s.xml' % image_id)\n",
        "    out_file = open('path/to/annotations/%s.txt' % image_id, 'w')\n",
        "    tree = ET.parse(in_file)\n",
        "    root = tree.getroot()\n",
        "    size = root.find('size')\n",
        "    w = int(size.find('width').text)\n",
        "    h = int(size.find('height').text)\n",
        "    for obj in root.iter('object'):\n",
        "        difficult = obj.find('difficult').text\n",
        "        cls = obj.find('name').text\n",
        "        if cls not in class_map or int(difficult) == 1:\n",
        "            continue\n",
        "        cls_id = class_map[cls]\n",
        "        xmlbox = obj.find('bndbox')\n",
        "        b = (int(xmlbox.find('xmin').text), int(xmlbox.find('ymin').text), int(xmlbox.find('xmax').text), int(xmlbox.find('ymax').text))\n",
        "        bb = (b[0]/w, b[1]/h, b[2]/w, b[3]/h)\n",
        "        out_file.write(str(cls_id) + \" \" + \" \".join([str(a) for a in bb]) + '\\n')\n",
        "\n",
        "# Define your class map here. This maps class names to indices.\n",
        "class_map = {\"class1\": 0, \"class2\": 1, \"class3\": 2}  # replace with your class names\n",
        "\n",
        "# Convert all XML files in the directory\n",
        "xml_files = glob.glob(os.path.join('path/to/annotations', '*.xml'))\n",
        "for xml_file in xml_files:\n",
        "    image_id = os.path.basename(xml_file)[:-4]  # strip the .xml extension\n",
        "    convert_annotation(image_id, class_map)"
      ]
    },
    {
      "cell_type": "code",
      "execution_count": null,
      "metadata": {
        "id": "YdFNm-d9Xr3F"
      },
      "outputs": [],
      "source": [
        "import os\n",
        "import xml.etree.ElementTree as ET\n",
        "\n",
        "def convert_annotation(image_id, classes):\n",
        "    in_file = open('path_to_annotations/%s.xml'%(image_id))\n",
        "    out_file = open('path_to_txt/%s.txt'%(image_id), 'w')\n",
        "    tree=ET.parse(in_file)\n",
        "    root = tree.getroot()\n",
        "    size = root.find('size')\n",
        "\n",
        "    for obj in root.iter('object'):\n",
        "        difficult = obj.find('difficult').text\n",
        "        cls = obj.find('name').text\n",
        "        if cls not in classes or int(difficult)==1:\n",
        "            continue\n",
        "        cls_id = classes.index(cls)\n",
        "        xmlbox = obj.find('bndbox')\n",
        "        b = (float(xmlbox.find('xmin').text), float(xmlbox.find('xmax').text), float(xmlbox.find('ymin').text), float(xmlbox.find('ymax').text))\n",
        "        out_file.write(\" \".join([str(a) for a in b]) + '\\n')\n",
        "\n",
        "# classes\n",
        "classes = [\"class1\", \"class2\", \"class3\"] # replace with your classes\n",
        "\n",
        "# convert annotations\n",
        "for image_id in os.listdir('path_to_annotations'):\n",
        "    convert_annotation(image_id, classes)\n"
      ]
    },
    {
      "cell_type": "code",
      "execution_count": null,
      "metadata": {
        "id": "jyTpDhWnZHC6"
      },
      "outputs": [],
      "source": [
        "import os\n",
        "import random\n",
        "\n",
        "# get list of image file names\n",
        "image_files = os.listdir('path_to_images')\n",
        "# filter list for .jpg files\n",
        "image_files = [file for file in image_files if file.endswith('.jpg')]\n",
        "# shuffle the list\n",
        "random.shuffle(image_files)\n",
        "\n",
        "# split into train and validation sets\n",
        "split_idx = int(0.8 * len(image_files))  # adjust this to change the split ratio\n",
        "train_files = image_files[:split_idx]\n",
        "val_files = image_files[split_idx:]\n",
        "\n",
        "# write the file names to train.txt and val.txt\n",
        "with open('path_to_output/train.txt', 'w') as f:\n",
        "    for file in train_files:\n",
        "        f.write(f'path_to_images/{file}\\n')\n",
        "\n",
        "with open('path_to_output/val.txt', 'w') as f:\n",
        "    for file in val_files:\n",
        "        f.write(f'path_to_images/{file}\\n')"
      ]
    },
    {
      "cell_type": "code",
      "execution_count": null,
      "metadata": {
        "id": "ap_HPZp3Z7g5"
      },
      "outputs": [],
      "source": [
        "# list of class names\n",
        "classes = ['class1', 'class2', 'class3']  # replace with your class names\n",
        "\n",
        "# write class names to file\n",
        "with open('path_to_output/classes.names', 'w') as f:\n",
        "    for class_name in classes:\n",
        "        f.write(f'{class_name}\\n')"
      ]
    },
    {
      "cell_type": "code",
      "execution_count": null,
      "metadata": {
        "id": "ItSZYvh_aKzd"
      },
      "outputs": [],
      "source": [
        "'''classes = 3\n",
        "train = path/to/train.txt\n",
        "valid = path/to/valid.txt\n",
        "names = path/to/your.names\n",
        "backup = backup/'''"
      ]
    },
    {
      "cell_type": "code",
      "execution_count": null,
      "metadata": {
        "id": "d3iNqzbEap-O"
      },
      "outputs": [],
      "source": [
        "# define the data\n",
        "data = {\n",
        "    'classes': 3,\n",
        "    'train': 'path/to/train.txt',\n",
        "    'valid': 'path/to/validation.txt',\n",
        "    'names': 'path/to/classes.names',\n",
        "    'backup': 'backup/'\n",
        "}\n",
        "\n",
        "# write the data to a .data file\n",
        "with open('path/to/dataset.data', 'w') as f:\n",
        "    for key, value in data.items():\n",
        "        f.write(f'{key} = {value}\\n')"
      ]
    },
    {
      "cell_type": "code",
      "execution_count": null,
      "metadata": {
        "id": "9GVvH-hAaxOV"
      },
      "outputs": [],
      "source": [
        "# download the config file\n",
        "!wget https://github.com/AlexeyAB/darknet/blob/master/cfg/yolov3.cfg\n",
        "\n",
        "# read the file into a string\n",
        "with open('yolov3.cfg', 'r') as f:\n",
        "    config_string = f.read()\n",
        "\n",
        "# make modifications\n",
        "config_string = config_string.replace('batch=1', 'batch=64')\n",
        "config_string = config_string.replace('subdivisions=1', 'subdivisions=16')\n",
        "config_string = config_string.replace('max_batches = 500200', 'max_batches = 4000')\n",
        "# ... make any other modifications you need ...\n",
        "\n",
        "# write the string back to the file\n",
        "with open('yolov3_modified.cfg', 'w') as f:\n",
        "    f.write(config_string)"
      ]
    }
  ],
  "metadata": {
    "accelerator": "GPU",
    "colab": {
      "gpuType": "T4",
      "provenance": [],
      "authorship_tag": "ABX9TyOF1v3mHDw+lY6yC3X0Q86/",
      "include_colab_link": true
    },
    "kernelspec": {
      "display_name": "Python 3",
      "name": "python3"
    },
    "language_info": {
      "name": "python"
    }
  },
  "nbformat": 4,
  "nbformat_minor": 0
}